{
 "cells": [
  {
   "cell_type": "code",
   "execution_count": null,
   "id": "c3866d0d-8872-45bb-a66b-4b948d4b7827",
   "metadata": {},
   "outputs": [],
   "source": [
    "print('INTRODUCTION TO PYTHON FOR MACHINE LEARNING')"
   ]
  }
 ],
 "metadata": {
  "kernelspec": {
   "display_name": "Python 3 (ipykernel)",
   "language": "python",
   "name": "python3"
  },
  "language_info": {
   "codemirror_mode": {
    "name": "ipython",
    "version": 3
   },
   "file_extension": ".py",
   "mimetype": "text/x-python",
   "name": "python",
   "nbconvert_exporter": "python",
   "pygments_lexer": "ipython3",
   "version": "3.10.1"
  }
 },
 "nbformat": 4,
 "nbformat_minor": 5
}
