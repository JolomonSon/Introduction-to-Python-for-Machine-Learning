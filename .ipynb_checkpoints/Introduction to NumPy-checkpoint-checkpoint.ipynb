{
 "cells": [
  {
   "cell_type": "code",
   "execution_count": 7,
   "id": "c3866d0d-8872-45bb-a66b-4b948d4b7827",
   "metadata": {},
   "outputs": [
    {
     "name": "stdout",
     "output_type": "stream",
     "text": [
      "INTRODUCTION TO PYTHON FOR MACHINE LEARNING\n"
     ]
    }
   ],
   "source": [
    "print('INTRODUCTION TO PYTHON FOR MACHINE LEARNING')"
   ]
  },
  {
   "cell_type": "code",
   "execution_count": 48,
   "id": "769c5113-8d2c-459d-8d50-cde2a3553893",
   "metadata": {},
   "outputs": [
    {
     "name": "stdout",
     "output_type": "stream",
     "text": [
      "Learning NumPy\n",
      "Type of array - <class 'numpy.ndarray'>\n",
      "Values in a array: (4,)\n",
      "int32\n",
      "Dimension of b array is - 2\n",
      "Dimension of c array is - 1\n"
     ]
    }
   ],
   "source": [
    "print('Learning NumPy')\n",
    "import numpy as np #- Instead of using `numpy` we use `np` to access the numpy library\n",
    "arr = [3,1,4,2]\n",
    "a = np.array(arr) #- Basically putting it in a numpy format so that we can manipulate it\n",
    "print('Type of array -',type(a))\n",
    "print('Values in a array:',a.shape) #- Number of values in the array\n",
    "print(a.dtype)\n",
    "\n",
    "#Arrays have dimensions(1 and 2)\n",
    "b = np.array([[1,2,3],[4,5,6]])\n",
    "c = np.array([6,7,8])\n",
    "print('Dimension of b array is -',b.ndim)\n",
    "print('Dimension of c array is -',c.ndim)"
   ]
  },
  {
   "cell_type": "code",
   "execution_count": null,
   "id": "046c2bfa-ab42-4eb7-8242-c9ee9c6eeb14",
   "metadata": {},
   "outputs": [],
   "source": []
  },
  {
   "cell_type": "code",
   "execution_count": null,
   "id": "f500b6b2-3fdd-4c17-866a-f2659ce49772",
   "metadata": {},
   "outputs": [],
   "source": []
  }
 ],
 "metadata": {
  "kernelspec": {
   "display_name": "Python 3 (ipykernel)",
   "language": "python",
   "name": "python3"
  },
  "language_info": {
   "codemirror_mode": {
    "name": "ipython",
    "version": 3
   },
   "file_extension": ".py",
   "mimetype": "text/x-python",
   "name": "python",
   "nbconvert_exporter": "python",
   "pygments_lexer": "ipython3",
   "version": "3.10.1"
  }
 },
 "nbformat": 4,
 "nbformat_minor": 5
}
