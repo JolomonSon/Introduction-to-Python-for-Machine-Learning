{
 "cells": [
  {
   "cell_type": "code",
   "execution_count": 7,
   "id": "c3866d0d-8872-45bb-a66b-4b948d4b7827",
   "metadata": {},
   "outputs": [
    {
     "name": "stdout",
     "output_type": "stream",
     "text": [
      "INTRODUCTION TO PYTHON FOR MACHINE LEARNING\n"
     ]
    }
   ],
   "source": [
    "print('INTRODUCTION TO PYTHON FOR MACHINE LEARNING(NumPy)')"
   ]
  },
  {
   "cell_type": "code",
   "execution_count": 87,
   "id": "769c5113-8d2c-459d-8d50-cde2a3553893",
   "metadata": {},
   "outputs": [
    {
     "name": "stdout",
     "output_type": "stream",
     "text": [
      "Learning NumPy\n",
      "Type of array - <class 'numpy.ndarray'>\n",
      "Values in a array: (4,)\n",
      "int32\n",
      "Dimension of b array is - 2\n",
      "Dimension of c array is - 1\n",
      "Rows and Columns in d array - (2, 2)\n",
      "Rows and Columns in e array - (2, 3)\n",
      "Addition of two arrays\n",
      "The addition of f array and g array:\n",
      " [[ 8 10 12]\n",
      " [14 16 18]]\n",
      "Multiplication of two arrays\n",
      "The multiplication of f array and g array:\n",
      " [[ 7 16 27]\n",
      " [40 55 72]]\n",
      "The first list in j array - [1 2 3]\n",
      "The last number in the last list in j array - 9\n",
      "Slicing the first two numbers in the second list in i array - [7 8]\n",
      "Slicing the first 5 even numbers accordingly - [ 2  4  6  8 10]\n",
      "Numbers greater than 5 in k array include - [ 6  7  8  9 10 11 12]\n"
     ]
    }
   ],
   "source": [
    "print('Learning NumPy')\n",
    "import numpy as np #- Instead of using `numpy` we use `np` to access the numpy library\n",
    "arr = [1,2,3,4]\n",
    "a = np.array(arr) #- Basically putting it in a numpy format so that we can manipulate it\n",
    "print('Type of array -',type(a))\n",
    "print('Values in a array:',a.shape) #- Number of values in the array similar to len() function in py\n",
    "print(a.dtype)\n",
    "\n",
    "#Dimensions of Arrays\n",
    "b = np.array([[1,2,3],[4,5,6]])\n",
    "c = np.array([6,7,8])\n",
    "print('Dimension of b array is -',b.ndim)\n",
    "print('Dimension of c array is -',c.ndim)\n",
    "d = np.array([[1,2],[3,4]])\n",
    "e = np.array([[1,2,3],[4,5,6]])\n",
    "print('Rows and Columns in d array -',d.shape)\n",
    "print('Rows and Columns in e array -',e.shape)\n",
    "\n",
    "#Intra-Operability of arrays and scalars\n",
    "print('Addition of two arrays')\n",
    "f = np.array([[1,2,3],[4,5,6]])\n",
    "g = np.array([[7,8,9],[10,11,12]])\n",
    "print('The addition of f array and g array:\\n',f+g)\n",
    "print('Multiplication of two arrays')\n",
    "h = np.array([[1,2,3],[4,5,6]])\n",
    "i = np.array([[7,8,9],[10,11,12]])\n",
    "print('The multiplication of f array and g array:\\n',f*g)\n",
    "\n",
    "#Indexing with arrays and using arrays for data processing\n",
    "j = np.array([[1,2,3],[4,5,6],[7,8,9]])\n",
    "print('The first list in j array -',j[0])\n",
    "print('The last number in the last list in j array -',j[-1][-1])\n",
    "#Slicing in arrays\n",
    "i = np.array([[1,2,3],[4,5,6],[7,8,9]])\n",
    "print('Slicing the first two numbers in the second list in i array -',i[2, 0:2])\n",
    "j = np.array([[4,5,6],[10,11,12],[1,2,3],[13,14,15],[7,8,9]])\n",
    "print('Slicing the first 5 even numbers accordingly -',j[[2,0,0,-1,1],[1,0,2,1,0]])\n",
    "#Boolean Indexing meeting a specific condition\n",
    "k = np.array([[1,2,3],[4,5,6],[7,8,9],[10,11,12]])\n",
    "print('Numbers greater than 5 in k array include -',k[k>5])\n",
    "\n",
    "print('Feel free to modify any line to see the output')\n",
    "print('Happy Coding!')"
   ]
  },
  {
   "cell_type": "markdown",
   "id": "c68f412c",
   "metadata": {},
   "source": []
  },
  {
   "cell_type": "code",
   "execution_count": null,
   "id": "f500b6b2-3fdd-4c17-866a-f2659ce49772",
   "metadata": {},
   "outputs": [],
   "source": []
  }
 ],
 "metadata": {
  "kernelspec": {
   "display_name": "Python 3 (ipykernel)",
   "language": "python",
   "name": "python3"
  },
  "language_info": {
   "codemirror_mode": {
    "name": "ipython",
    "version": 3
   },
   "file_extension": ".py",
   "mimetype": "text/x-python",
   "name": "python",
   "nbconvert_exporter": "python",
   "pygments_lexer": "ipython3",
   "version": "3.10.1"
  }
 },
 "nbformat": 4,
 "nbformat_minor": 5
}
