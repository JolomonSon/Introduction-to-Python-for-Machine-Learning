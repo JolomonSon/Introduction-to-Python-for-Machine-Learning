{
 "cells": [
  {
   "cell_type": "code",
   "execution_count": null,
   "id": "a1ac2eee",
   "metadata": {},
   "outputs": [],
   "source": [
    "import pandas as pd\n",
    "AnimalFat = pd.read_csv('dataset/FoodBalanceSheets.csv', encoding='latin-1')\n",
    "AnimalFat.head()"
   ]
  },
  {
   "cell_type": "code",
   "execution_count": null,
   "id": "b7ca7f44",
   "metadata": {},
   "outputs": [],
   "source": [
    "print('Question 1 - Total Sum of AnimalFat produced in 2014 and 2017 respectively')\n",
    "AnimalFatSum = AnimalFat.groupby(['Item'])['Y2014','Y2015'].count()\n",
    "print(AnimalFatSum)\n",
    "print('groupby() is basically a form of joining/group multiple columns using a central column provided as a parameter')"
   ]
  },
  {
   "cell_type": "code",
   "execution_count": null,
   "id": "23437127",
   "metadata": {},
   "outputs": [],
   "source": [
    "print('Question 2 - Mean and Standard Deviation for Y2015')\n",
    "mean_of_2015 = AnimalFatSum['Y2015'].mean()\n",
    "std_of_2015 = AnimalFatSum['Y2015'].std()\n",
    "print('Mean of 2015',mean_of_2015)\n",
    "print('Standard Deviation of 2015',std_of_2015)"
   ]
  },
  {
   "cell_type": "code",
   "execution_count": null,
   "id": "9d11590e",
   "metadata": {},
   "outputs": [],
   "source": [
    "print('Question 3 - Total Number and Percentage of missing data in 2016')\n",
    "missing_data = AnimalFat['Y2016'].isnull().sum()\n",
    "percentage = missing_data * 100 / len(AnimalFat['Y2016'])\n",
    "print('Total number of missing data',missing_data)\n",
    "print('Percentage of missing data',percentage)"
   ]
  },
  {
   "cell_type": "code",
   "execution_count": null,
   "id": "47573c73",
   "metadata": {},
   "outputs": [],
   "source": [
    "print('Side Question - Total Number and Percentage of AnimalFat data')\n",
    "data = AnimalFat.sum()\n",
    "percentage = data * 100 / len(AnimalFat)\n",
    "print('Total number of missing data',data)\n",
    "print('Percentage of missing data',percentage)"
   ]
  },
  {
   "cell_type": "code",
   "execution_count": null,
   "id": "84b767ff",
   "metadata": {},
   "outputs": [],
   "source": []
  }
 ],
 "metadata": {
  "kernelspec": {
   "display_name": "Python 3 (ipykernel)",
   "language": "python",
   "name": "python3"
  },
  "language_info": {
   "codemirror_mode": {
    "name": "ipython",
    "version": 3
   },
   "file_extension": ".py",
   "mimetype": "text/x-python",
   "name": "python",
   "nbconvert_exporter": "python",
   "pygments_lexer": "ipython3",
   "version": "3.10.1"
  }
 },
 "nbformat": 4,
 "nbformat_minor": 5
}
