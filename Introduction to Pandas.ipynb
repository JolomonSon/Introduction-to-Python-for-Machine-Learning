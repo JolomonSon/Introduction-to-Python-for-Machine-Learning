{
 "cells": [
  {
   "cell_type": "code",
   "execution_count": null,
   "id": "cfb1a638",
   "metadata": {},
   "outputs": [],
   "source": [
    "print('INTRODUCTION TO PYTHON FOR MACHINE LEARNING(Pandas)')"
   ]
  },
  {
   "cell_type": "code",
   "execution_count": 1,
   "id": "9d740ade",
   "metadata": {},
   "outputs": [],
   "source": [
    "print('Learning Pandas')\n",
    "import pandas as pd #- Instead of using `pandas` we use `pd` to access the pandas library\n",
    "#Pandas "
   ]
  }
 ],
 "metadata": {
  "kernelspec": {
   "display_name": "Python 3 (ipykernel)",
   "language": "python",
   "name": "python3"
  },
  "language_info": {
   "codemirror_mode": {
    "name": "ipython",
    "version": 3
   },
   "file_extension": ".py",
   "mimetype": "text/x-python",
   "name": "python",
   "nbconvert_exporter": "python",
   "pygments_lexer": "ipython3",
   "version": "3.10.1"
  }
 },
 "nbformat": 4,
 "nbformat_minor": 5
}
