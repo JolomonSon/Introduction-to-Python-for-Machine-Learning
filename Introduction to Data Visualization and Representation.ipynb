{
 "cells": [
  {
   "cell_type": "code",
   "execution_count": null,
   "id": "9014bb80",
   "metadata": {},
   "outputs": [],
   "source": [
    "print('Data Visualization and Representation')"
   ]
  },
  {
   "cell_type": "code",
   "execution_count": null,
   "id": "cd72cf35",
   "metadata": {},
   "outputs": [],
   "source": [
    "# Import plotting library\n",
    "import matplotlib.pyplot as plt #- pip install matplotlib should resolve the error"
   ]
  },
  {
   "cell_type": "code",
   "execution_count": null,
   "id": "0ccf030c",
   "metadata": {},
   "outputs": [],
   "source": [
    "plt.figure(figsize=(7,4))\n",
    "plt.xticks(rotation=90)\n",
    "fuel_unit = pd.DataFrame({'unit':['BBL', 'GAL', 'GRAMSU', 'KGU', 'MCF', 'MMBTU',\n",
    "'MWDTH', 'MWHTH', 'TON'],\n",
    "'count':[7998, 84, 464, 110, 11354, 180, 95, 100, 8958]})\n",
    "sns.barplot(data=fuel_unit, x='unit', y='count') #- Specifying the axis to plot data\n",
    "plt.xlabel('Fuel Unit')"
   ]
  },
  {
   "cell_type": "code",
   "execution_count": null,
   "id": "9b87c06c",
   "metadata": {},
   "outputs": [],
   "source": [
    "print('Because of the extreme range of the values for the fuel unit, we can plot the barchart by taking the logarithm of the y-axis as follows:')\n",
    "g = sns.barplot(data=fuel_unit, x='unit', y='count')\n",
    "g.set_yscale(\"log\")\n",
    "g.set_ylim(1, 12000)\n",
    "plt.xlabel('Fuel Unit')"
   ]
  },
  {
   "cell_type": "code",
   "execution_count": null,
   "id": "29fa1b73",
   "metadata": {},
   "outputs": [],
   "source": [
    "# Select a sample of the dataset\n",
    "sample_df = fuel_data.sample(n=50, random_state=4)\n",
    "sns.regplot(x=sample_df[\"utility_id_ferc1\"], y=sample_df[\"fuel_cost_per_mmbtu\"],\n",
    "fit_reg=False)"
   ]
  },
  {
   "cell_type": "code",
   "execution_count": null,
   "id": "eeb84b36",
   "metadata": {},
   "outputs": [],
   "source": [
    "# Import plotting library\n",
    "import seaborn as sns"
   ]
  },
  {
   "cell_type": "code",
   "execution_count": null,
   "id": "abbc5eb7",
   "metadata": {},
   "outputs": [],
   "source": []
  }
 ],
 "metadata": {
  "kernelspec": {
   "display_name": "Python 3 (ipykernel)",
   "language": "python",
   "name": "python3"
  },
  "language_info": {
   "codemirror_mode": {
    "name": "ipython",
    "version": 3
   },
   "file_extension": ".py",
   "mimetype": "text/x-python",
   "name": "python",
   "nbconvert_exporter": "python",
   "pygments_lexer": "ipython3",
   "version": "3.10.1"
  }
 },
 "nbformat": 4,
 "nbformat_minor": 5
}
